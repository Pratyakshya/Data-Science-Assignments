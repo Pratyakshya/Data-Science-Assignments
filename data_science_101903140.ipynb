{
  "nbformat": 4,
  "nbformat_minor": 0,
  "metadata": {
    "colab": {
      "name": "data science_101903140.ipynb",
      "provenance": [],
      "mount_file_id": "1ztMCgl7YLPoVVPpN7pcz2OFDkdV2z5TL",
      "authorship_tag": "ABX9TyOO73QMjYa91pitqNNfAMDn",
      "include_colab_link": true
    },
    "kernelspec": {
      "name": "python3",
      "display_name": "Python 3"
    },
    "language_info": {
      "name": "python"
    }
  },
  "cells": [
    {
      "cell_type": "markdown",
      "metadata": {
        "id": "view-in-github",
        "colab_type": "text"
      },
      "source": [
        "<a href=\"https://colab.research.google.com/github/Pratyakshya/Data-Science-Assignments/blob/main/data_science_101903140.ipynb\" target=\"_parent\"><img src=\"https://colab.research.google.com/assets/colab-badge.svg\" alt=\"Open In Colab\"/></a>"
      ]
    },
    {
      "cell_type": "markdown",
      "metadata": {
        "id": "jll0rypBpsZr"
      },
      "source": [
        "# **ASSIGNMENT 1**"
      ]
    },
    {
      "cell_type": "markdown",
      "metadata": {
        "id": "9nx98y0lp9Gu"
      },
      "source": [
        "Question 1: Write a program that displays options for inserting or deleting elements in a list. If the\n",
        "user chooses a deletion option display a submenu and ask if element is to be deleted with\n",
        "value or by using its position or list slice to be deleted."
      ]
    },
    {
      "cell_type": "code",
      "metadata": {
        "colab": {
          "base_uri": "https://localhost:8080/"
        },
        "id": "HvmywddrxTNA",
        "outputId": "1a1e4bfc-788e-4813-f0ff-f5cafee109eb"
      },
      "source": [
        "\n",
        "li = list()\n",
        "while 1:\n",
        "  print('Select an option')\n",
        "  print('1. Delete')\n",
        "  print('2. Insert')\n",
        "  x = int(input())\n",
        "  if x==2:\n",
        "    item = input('Enter item ')\n",
        "    li.append(item)\n",
        "  else:\n",
        "    print('Select an option')\n",
        "    print('1. Delete by value')\n",
        "    print('2. Delete by position')\n",
        "    print('3. Slice list')\n",
        "    y = int(input())\n",
        "    if y==1:\n",
        "      item = input('Enter item ')\n",
        "      li.remove(item)\n",
        "    elif y==2:\n",
        "      index = int(input('Enter index '))\n",
        "      li.pop(index)\n",
        "    else:\n",
        "      s = int(input('Enter start index of slice '))\n",
        "      e = int(input('Enter end index of slice '))+1\n",
        "      del li[s:e]\n",
        "  print(li)\n",
        "  t = input(\"Do you want to continue? \")\n",
        "  if t=='No' or t=='no' or t=='NO':\n",
        "    break\n",
        "  \n",
        "\n",
        "\n"
      ],
      "execution_count": null,
      "outputs": [
        {
          "name": "stdout",
          "output_type": "stream",
          "text": [
            "Select an option\n",
            "1. Delete\n",
            "2. Insert\n",
            "2\n",
            "Enter item 7\n",
            "['7']\n",
            "Do you want to continue? yes\n",
            "Select an option\n",
            "1. Delete\n",
            "2. Insert\n",
            "2\n",
            "Enter item 9\n",
            "['7', '9']\n",
            "Do you want to continue? 1\n",
            "Select an option\n",
            "1. Delete\n",
            "2. Insert\n",
            "2\n",
            "Enter item 10\n",
            "['7', '9', '10']\n",
            "Do you want to continue? yes\n",
            "Select an option\n",
            "1. Delete\n",
            "2. Insert\n",
            "1\n",
            "Select an option\n",
            "1. Delete by value\n",
            "2. Delete by position\n",
            "3. Slice list\n",
            "2\n",
            "Enter index 2\n",
            "['7', '9']\n",
            "Do you want to continue? no\n"
          ]
        }
      ]
    },
    {
      "cell_type": "markdown",
      "metadata": {
        "id": "OxHih30kqFHh"
      },
      "source": [
        "Question 2: Write a program that asks the user to input a number a list to be appended to an existing\n",
        "list. Whether the user enters a single number or a list of numbers, the program should\n",
        "append the list accordingly."
      ]
    },
    {
      "cell_type": "code",
      "metadata": {
        "colab": {
          "base_uri": "https://localhost:8080/"
        },
        "id": "P5Ss2VK15rMp",
        "outputId": "32400f12-5c06-4e64-affc-f57966306cc0"
      },
      "source": [
        "li = list()\n",
        "while 1:\n",
        "  print('Enter numbers to be appended')\n",
        "  x = input()\n",
        "  x.split(' ')\n",
        "  print(x)\n",
        "  for i in x:\n",
        "    if i !=' ':\n",
        "      li.append(i)\n",
        "  print(li)\n",
        "  t = input(\"Do you want to continue? \")\n",
        "  if t=='No' or t=='no' or t=='NO':\n",
        "    break\n",
        "  "
      ],
      "execution_count": null,
      "outputs": [
        {
          "name": "stdout",
          "output_type": "stream",
          "text": [
            "Enter numbers to be appended\n",
            "5\n",
            "5\n",
            "['5']\n",
            "Do you want to continue? yes\n",
            "Enter numbers to be appended\n",
            "7 5 9 4 7\n",
            "7 5 9 4 7\n",
            "['5', '7', '5', '9', '4', '7']\n",
            "Do you want to continue? no\n"
          ]
        }
      ]
    },
    {
      "cell_type": "markdown",
      "metadata": {
        "id": "nSgs64eyqLF5"
      },
      "source": [
        "Question 3: Write a program to input a tuple and create two new tuples from it, one containing its\n",
        "every 3rd element in the reverse order, starting from the last element and another\n",
        "containing every alternate elements lying between 3rd to 9th elements."
      ]
    },
    {
      "cell_type": "code",
      "metadata": {
        "id": "h9N96L5w9p2F",
        "colab": {
          "base_uri": "https://localhost:8080/"
        },
        "outputId": "767d63c3-6e32-4bd6-bf96-6405d4967d3b"
      },
      "source": [
        "t = tuple(input().split(' '))\n",
        "l = len(t)\n",
        "print(t)\n",
        "t1 = t[-1::-3]\n",
        "t2 = t[3:10:2]\n",
        "print(t1,t2)"
      ],
      "execution_count": null,
      "outputs": [
        {
          "output_type": "stream",
          "name": "stdout",
          "text": [
            "7 3 2 9 1 3 0 19 34\n",
            "('7', '3', '2', '9', '1', '3', '0', '19', '34')\n",
            "('34', '3', '2') ('9', '3', '19')\n"
          ]
        }
      ]
    },
    {
      "cell_type": "markdown",
      "metadata": {
        "id": "c63McwhoqQ0j"
      },
      "source": [
        "Question 4: Write a program to read email IDs of n number of students and store them in a tuple.\n",
        "Create two new tuples- first to store only the user names from the email IDs and second\n",
        "to store domain names from the email ids. Print all three tuples at the end of the\n",
        "program."
      ]
    },
    {
      "cell_type": "code",
      "metadata": {
        "colab": {
          "base_uri": "https://localhost:8080/"
        },
        "id": "3jB9JpQuYQwy",
        "outputId": "879224cb-3344-4a91-dcb0-9ce1cab91fb3"
      },
      "source": [
        "t = tuple(input(\"Enter email ids: \").split(' '))\n",
        "print(t)\n",
        "l1= list()\n",
        "l2= list()\n",
        "t1= tuple()\n",
        "t2= tuple()\n",
        "for temp in t:\n",
        "  l1.append(temp.split('@')[0])\n",
        "  l2.append(temp.split('@')[1])\n",
        "t1=l1\n",
        "t2=l2\n",
        "print(t1,t2)"
      ],
      "execution_count": null,
      "outputs": [
        {
          "output_type": "stream",
          "name": "stdout",
          "text": [
            "Enter email ids: bhakunipratyakshya@gmail.com\n",
            "('bhakunipratyakshya@gmail.com',)\n",
            "['bhakunipratyakshya'] ['gmail.com']\n"
          ]
        }
      ]
    },
    {
      "cell_type": "markdown",
      "metadata": {
        "id": "qgn-8qkiqW7z"
      },
      "source": [
        "Question 5: Write a program to create a dictionary containing names of the winner players as keys\n",
        "and number of their wins (medals) as values."
      ]
    },
    {
      "cell_type": "code",
      "metadata": {
        "colab": {
          "base_uri": "https://localhost:8080/"
        },
        "id": "d--7JG_hdH3C",
        "outputId": "bc72e7d3-2cb2-489f-cbcc-7c0b729f97b0"
      },
      "source": [
        "d={}\n",
        "n=int(input(\"Enter The Number of Records You Want To Insert : \"))\n",
        "for i in range(n):\n",
        "  name=input(\"\\n Enter The Name of The Player : \")\n",
        "  medals=int(input(\"\\n Enter The Number of Medals : \"))\n",
        "  d[name]=medals\n",
        "print(d)"
      ],
      "execution_count": null,
      "outputs": [
        {
          "output_type": "stream",
          "name": "stdout",
          "text": [
            "Enter The Number of Records You Want To Insert : 5\n",
            "\n",
            " Enter The Name of The Player : Pratyakshya Bhakuni\n",
            "\n",
            " Enter The Number of Medals : 84\n",
            "\n",
            " Enter The Name of The Player : Instellix\n",
            "\n",
            " Enter The Number of Medals : 60\n",
            "\n",
            " Enter The Name of The Player : Prince\n",
            "\n",
            " Enter The Number of Medals : 70\n",
            "\n",
            " Enter The Name of The Player : Pari\n",
            "\n",
            " Enter The Number of Medals : 78\n",
            "\n",
            " Enter The Name of The Player : lost cause\n",
            "\n",
            " Enter The Number of Medals : 30\n",
            "{'Pratyakshya Bhakuni': 84, 'Instellix': 60, 'Prince': 70, 'Pari': 78, 'lost cause': 30}\n"
          ]
        }
      ]
    },
    {
      "cell_type": "markdown",
      "metadata": {
        "id": "fNYe5XSPqfPq"
      },
      "source": [
        "Question 6: You have a dictionary of following type\n",
        "dict1 = {0:'Zero',1:'One',2:'Two',3:'Three'}\n",
        "Write a program that takes a value and checks whether the given value is part of given\n",
        "dictionary or not. If it is, it should print the corresponding key otherwise print the error\n",
        "message."
      ]
    },
    {
      "cell_type": "code",
      "metadata": {
        "colab": {
          "base_uri": "https://localhost:8080/"
        },
        "id": "gs7DzWfgfDx-",
        "outputId": "fff820e5-95bd-421d-8436-268a7c3bc873"
      },
      "source": [
        "dict1 = {0:'Zero',1:'One',2:'Two',3:'Three'}\n",
        "\n",
        "def get_key(val):\n",
        "    for key, value in dict1.items():\n",
        "         if val == value:\n",
        "             return key\n",
        " \n",
        "    return \"Value doesn't exist\"\n",
        "print(\"1.Enter The Value\\n2.Exit\")\n",
        "while 1:\n",
        "  d=int(input(\"\\n Enter The Choice : \"))\n",
        "  if d==1:\n",
        "    v=input(\"\\n Enter The Value : \")\n",
        "    print(get_key(v))\n",
        "  elif d==2:\n",
        "    break\n",
        "  else:\n",
        "    print(\"\\n Invalid Choice\")"
      ],
      "execution_count": null,
      "outputs": [
        {
          "name": "stdout",
          "output_type": "stream",
          "text": [
            "1.Enter The Value\n",
            "2.Exit\n",
            "\n",
            " Enter The Choice : 1\n",
            "\n",
            " Enter The Value : 6\n",
            "Value doesn't exist\n",
            "\n",
            " Enter The Choice : 2\n"
          ]
        }
      ]
    },
    {
      "cell_type": "markdown",
      "metadata": {
        "id": "jXHoLvAUqkMo"
      },
      "source": [
        "Question 7: Write a program to create a dictionary with the roll number, name and marks of n\n",
        "students in a class and displays the names of the students who have marks above 75."
      ]
    },
    {
      "cell_type": "code",
      "metadata": {
        "colab": {
          "base_uri": "https://localhost:8080/"
        },
        "id": "pF2fJaI5gE34",
        "outputId": "cad77d85-0eed-4358-ec5b-b3a7a686a92e"
      },
      "source": [
        "d = {}\n",
        "while 1:\n",
        "  rollno=int(input(\"Enter The Rollno of The Student : \"))\n",
        "  name=input(\"Enter The Name of the Student : \")\n",
        "  marks=int(input(\"Enter The Marks of The Student : \"))\n",
        "  d[rollno]= [name, marks]\n",
        "  t = input(\"Do you want to continue? \")\n",
        "  if t=='No' or t=='no' or t=='NO':\n",
        "    break\n",
        "\n",
        "for val in d.values():\n",
        "  if val[1]>=75:\n",
        "    print(val[0])"
      ],
      "execution_count": null,
      "outputs": [
        {
          "output_type": "stream",
          "name": "stdout",
          "text": [
            "Enter The Rollno of The Student : 654646\n",
            "Enter The Name of the Student : jgjgj\n",
            "Enter The Marks of The Student : 76\n",
            "Do you want to continue? no\n",
            "jgjgj\n"
          ]
        }
      ]
    },
    {
      "cell_type": "markdown",
      "metadata": {
        "id": "bx1UXO1uqr8N"
      },
      "source": [
        "Question 8: Write a program to read a sentence and then create a dictionary contains the frequency of\n",
        "letters and digits in the sentence. Ignore other symbols, if any."
      ]
    },
    {
      "cell_type": "code",
      "metadata": {
        "colab": {
          "base_uri": "https://localhost:8080/"
        },
        "id": "KmjujOmnjMNG",
        "outputId": "cab6711c-f4da-4574-cd8b-f02cc7312534"
      },
      "source": [
        "s=input(\"Enter The String : \")\n",
        "Freq = {}\n",
        "l=['1','2','3','4','5','6','7','8','9','0','a','b','c','d','e','f','g','h','i','j','k','l','m','n','o','p','q','r','s','t','u','v','w','x','y','z']\n",
        "for i in s:\n",
        "  if i in l:\n",
        "    if i in Freq:\n",
        "        Freq[i] += 1\n",
        "    else:\n",
        "        Freq[i] = 1\n",
        "\n",
        "print(\"Frequency of all Strings is \",Freq)"
      ],
      "execution_count": null,
      "outputs": [
        {
          "output_type": "stream",
          "name": "stdout",
          "text": [
            "Enter The String : Prrrratyaakhsyyaaaaaa39279031282232\n",
            "Frequency of all Strings is  {'r': 4, 'a': 9, 't': 1, 'y': 3, 'k': 1, 'h': 1, 's': 1, '3': 3, '9': 2, '2': 5, '7': 1, '0': 1, '1': 1, '8': 1}\n"
          ]
        }
      ]
    },
    {
      "cell_type": "markdown",
      "metadata": {
        "id": "Nzy4RkrAqybJ"
      },
      "source": [
        "Question 9: Write a program that needs a string and displays the longest substring of the given string\n",
        "having just the consonants."
      ]
    },
    {
      "cell_type": "code",
      "metadata": {
        "colab": {
          "base_uri": "https://localhost:8080/"
        },
        "id": "WQ7F6j2alG81",
        "outputId": "3a8cf5a5-2733-4d56-b4e1-678097cd701b"
      },
      "source": [
        "string = input(\"Enter a string: \")\n",
        "length = len(string)\n",
        "maxlength = 0\n",
        "maxsub =''              \n",
        "sub =''                 \n",
        "lensub = 0\n",
        "for a in range(length):\n",
        "   if string[a] in 'aeiouAEIOU' :\n",
        "     if lensub > maxlength:\n",
        "       maxsub = sub\n",
        "       maxlength = lensub\n",
        "     sub = ''\n",
        "     lensub = 0    \n",
        "   else :\n",
        "       sub += string[a]\n",
        "       lensub += 1\n",
        "if lensub > maxlength:\n",
        "       maxsub = sub\n",
        "       maxlength = lensub\n",
        "print (\"Maximum length consonant substring is :\" , maxsub)"
      ],
      "execution_count": null,
      "outputs": [
        {
          "output_type": "stream",
          "name": "stdout",
          "text": [
            "Enter a string: Apdjsniodhiaahdojadjlajdkh\n",
            "Maximum length consonant substring is : pdjsn\n"
          ]
        }
      ]
    },
    {
      "cell_type": "markdown",
      "metadata": {
        "id": "rqni6RISq4Im"
      },
      "source": [
        "Question 10: Write a program that reads a line and prints its statistics like:\n",
        "Number of upper case letters :\n",
        "Number of alphabets:\n",
        "Number of Symbols:\n",
        "Number of digits:\n",
        "Number of lower case letters :"
      ]
    },
    {
      "cell_type": "code",
      "metadata": {
        "colab": {
          "base_uri": "https://localhost:8080/"
        },
        "id": "l0un7oCqnY7b",
        "outputId": "2bbd8e73-7992-48b5-9a87-d85e0da6d905"
      },
      "source": [
        "s=input(\"Enter a String : \")\n",
        "calpha=0\n",
        "csymbol=0\n",
        "cdigit=0\n",
        "cupper=0\n",
        "clower=0\n",
        "\n",
        "for i in s:\n",
        "  if i.islower():\n",
        "    clower+=1\n",
        "  if i.isupper():\n",
        "    cupper+=1\n",
        "  if i.isalpha():\n",
        "    calpha+=1\n",
        "  if i.isdigit():\n",
        "    cdigit+=1\n",
        "  if not(i.isalpha()) and not(i.isdigit()) :\n",
        "    csymbol+=1\n",
        "\n",
        "print(\"\\nNumber of Upper case letters : \",cupper)\n",
        "print(\"\\nNumber of Aplhabets : \",calpha)\n",
        "print(\"\\nNumber of Symbols : \",csymbol)\n",
        "print(\"\\nNumber of Digits : \",cdigit)\n",
        "print(\"\\nNumber of Lower case letters : \",clower)"
      ],
      "execution_count": null,
      "outputs": [
        {
          "output_type": "stream",
          "name": "stdout",
          "text": [
            "Enter a String : uoduo9u29937129e#%\n",
            "\n",
            "Number of Upper case letters :  0\n",
            "\n",
            "Number of Aplhabets :  7\n",
            "\n",
            "Number of Symbols :  2\n",
            "\n",
            "Number of Digits :  9\n",
            "\n",
            "Number of Lower case letters :  7\n"
          ]
        }
      ]
    },
    {
      "cell_type": "markdown",
      "metadata": {
        "id": "MCjjJhrq3KpQ"
      },
      "source": [
        "# **ASSIGNMENT 2**\n"
      ]
    },
    {
      "cell_type": "markdown",
      "metadata": {
        "id": "z6THZJw86Jgh"
      },
      "source": [
        "Q1: There is the requirement to develop an information System for the employees working\n",
        "in an organization, having the following\n",
        "(i) Create a class Emp that includes attributes: EmpId, EmpName, Points, Group,\n",
        "and Average Points.\n",
        "(ii) Include a constructor with the option that if Empid and EmpName are given\n",
        "by the user, use this data to initialize the Object, otherwise initialize with\n",
        "default values of EmpId and EmpName.\n",
        "(iii) Include a method addPoints to add points to the values of Points of the\n",
        "employee.\n",
        "(iv) Include a method removePoints to remove points from the values of Points of\n",
        "the employee. If the resultant value is negative then the value of the Points\n",
        "attribute should be set to zero.\n",
        "(v) Include a method computeGroup to assign a value to the Group attribute using\n",
        "the following rules:\n",
        "Silver: if points<=100\n",
        "Gold: points >100 and <=500\n",
        "Platinum: points >500 and <=1000\n",
        "Diamond : points >1000\n",
        "(vi) Include a method to print the list of Employee of a particular group.\n",
        "(vii) Include a method to print the attributes of the employee."
      ]
    },
    {
      "cell_type": "code",
      "metadata": {
        "colab": {
          "base_uri": "https://localhost:8080/"
        },
        "id": "DF6VtCb23zNf",
        "outputId": "c75eef40-29b0-4cb3-a729-925fb6196f8b"
      },
      "source": [
        "class employee:\n",
        "  points= 0\n",
        "  employees = []\n",
        "  def __init__(self, empid = 1 ,empname = \"Instellix\"):\n",
        "    self.empid = empid\n",
        "    self.empname = empname\n",
        "    self.employees.append(self)\n",
        "  \n",
        "  def addPoints(self, points):\n",
        "    self.points = points + self.points\n",
        "\n",
        "  def removePoints(self, points):\n",
        "    self.points = self.points - points\n",
        "    if self.points < 0 :\n",
        "      self.points = 0\n",
        "  \n",
        "  def computeGroup(self):\n",
        "    if self.points <=100:\n",
        "      self.group = \"Silver\"\n",
        "    elif self.points>100 and self.points<=500:\n",
        "      self.group = \"Gold\"\n",
        "    elif self.points>500 and self.points<=1000:\n",
        "      self.group = \"Platinum\"\n",
        "    else:\n",
        "      self.group = \"Diamond\"\n",
        "\n",
        "  def printAttr(self):\n",
        "    print(\"Employee id \", self.empid)\n",
        "    print(\"Employee name \", self.empname)\n",
        "    print(\"Employee points \", self.points)\n",
        "    self.computeGroup()\n",
        "    print(\"Employee group \", self.group)\n",
        "\n",
        "  @classmethod\n",
        "  def groupList(cls, grp):\n",
        "   for e in cls.employees:\n",
        "      if e.group == grp:\n",
        "        print(e.empid)\n",
        "        print(e.empname)\n",
        "\n",
        "\n",
        "e1 = employee()\n",
        "e1.addPoints(1000)\n",
        "e1.printAttr()\n",
        "e2 = employee(12, \"Pratyakshya\")\n",
        "e2.removePoints(10)\n",
        "e2.printAttr()\n",
        "employee.groupList(\"Silver\")"
      ],
      "execution_count": null,
      "outputs": [
        {
          "output_type": "stream",
          "name": "stdout",
          "text": [
            "Employee id  1\n",
            "Employee name  Instellix\n",
            "Employee points  1000\n",
            "Employee group  Platinum\n",
            "Employee id  12\n",
            "Employee name  Pratyakshya\n",
            "Employee points  0\n",
            "Employee group  Silver\n",
            "12\n",
            "Pratyakshya\n"
          ]
        }
      ]
    },
    {
      "cell_type": "markdown",
      "metadata": {
        "id": "b3Ket-wD6m-f"
      },
      "source": [
        "Q2: There is a requirement to develop a simple real estate application that allows an agent to\n",
        "manage properties available for purchase or rent. There are two types of properties:\n",
        "apartments and houses. The agent needs to be able to enter a few relevant details about\n",
        "new properties, list all currently available properties, and mark a property as sold or\n",
        "rented.\n",
        "As House and Apartment are both types of properties, so Property can be a superclass of\n",
        "those two classes. Rental and Purchase will need some extra thought; if we use\n",
        "inheritance, we'll need to have separate classes, for example, for HouseRental and\n",
        "HousePurchase, and use multiple inheritance to combine them.\n",
        "Now then, what attributes might be associated with a Property? Regardless of whether it\n",
        "is an apartment or a house, most people will want to know the square footage, number of \n",
        "bedrooms, and number of bathrooms. (There are numerous other attributes that might be\n",
        "modeled, but we'll keep it simple for our prototype.)\n",
        "If the property is a house, it will want to advertise the number of stories, whether it has a\n",
        "garage (attached, detached, or none), and whether the yard is fenced. An apartment will\n",
        "want to indicate if it has a balcony, and if laundry is en-suite, coin, or off-site. Both\n",
        "property types will require a method to display the characteristics of that property. At the\n",
        "moment, no other behaviors are apparent.\n",
        "Rental properties will need to store the rent per month, whether the property is furnished,\n",
        "and whether utilities are included, and if not, what they are estimated to be. Properties\n",
        "for purchase will need to store the purchase price and estimated annual property taxes.\n",
        "For our application, we'll only need to display this data, so we can get away with just\n",
        "adding a display() method similar to that used in the other classes.\n",
        "Finally, we'll need an Agent object that holds a list of all properties, displays those\n",
        "properties, and allows us to create new ones. Creating properties will entail prompting\n",
        "the user for the relevant details for each property type. This could be done in the Agent\n",
        "object, but then Agent would need to know a lot of information about the types of\n",
        "properties.\n",
        "This is not taking advantage of polymorphism. Another alternative would be to put the\n",
        "prompts in the initializer or even a constructor for each class, but this would not allow\n",
        "the classes to be applied later in a GUI or web application in the future. A better idea is\n",
        "to create a static method that does the prompting and returns a dictionary of the prompted\n",
        "parameters. Then all the Agent has to do is prompt the user for the type of property and\n",
        "payment method, and ask the correct class to instantiate itself.\n",
        "Develop your code using the concept of Object Oriented Approach\n"
      ]
    },
    {
      "cell_type": "code",
      "metadata": {
        "colab": {
          "base_uri": "https://localhost:8080/"
        },
        "id": "t0E7amie3PmP",
        "outputId": "238ed0f6-5ad5-4c80-9c7c-de8922ab09cc"
      },
      "source": [
        "class Property:\n",
        "    def __init__(self, square_footage=1000, bedrooms=2, bathrooms=1):\n",
        "        self.square_footage = square_footage\n",
        "        self.bedrooms = bedrooms\n",
        "        self.bathrooms = bathrooms\n",
        "\n",
        "    def display(self):\n",
        "        print(\"Property ---\")\n",
        "        print(\"Square footage : \", self.square_footage)\n",
        "        print(\"Number of bedrooms : \", self.bedrooms)\n",
        "        print(\"Number of bathrooms : \", self.bathrooms)\n",
        "\n",
        "\n",
        "class House(Property):\n",
        "    def __init__(self, num_stories=1, garage=None, fenced=False, *super_args):\n",
        "        super().__init__(super_args)\n",
        "        self.stories = num_stories\n",
        "        self.garage = garage\n",
        "        self.fenced = fenced\n",
        "\n",
        "    def display(self):\n",
        "        print(\"House ---\")\n",
        "        print(\"Number of stories : \", self.stories)\n",
        "        print(\"Garage Details : \", self.garage)\n",
        "        print(\"Is Fenced ? \", self.fenced)\n",
        "\n",
        "\n",
        "class Apartment(Property):\n",
        "    #  balcony, and if laundry is en-suite, coin, or off-site.\n",
        "    def __init__(self, balcony=True, laundry=\"en-suite\", *super_args):\n",
        "        super().__init__(super_args)\n",
        "        self.balcony = balcony\n",
        "        self.laundry = laundry\n",
        "\n",
        "    def display(self):\n",
        "        print(\"Apartment ---\")\n",
        "        print(\"Has balcony ? \", self.balcony)\n",
        "        print(\"Laundry Type : \", self.laundry)\n",
        "\n",
        "\n",
        "class Rental(Property):\n",
        "    # rent per month, whether the property is furnished,\n",
        "    # and whether utilities are included, and if not, what they are estimated to be\n",
        "    def __init__(self, monthly_rent=1000, furnished=True, utilities=True, estimate=0, *super_args):\n",
        "        super().__init__(super_args)\n",
        "        self.monthly_rent = monthly_rent\n",
        "        self.furnished = furnished\n",
        "        self.utilities = utilities\n",
        "        self.estimate = estimate\n",
        "\n",
        "    def display(self):\n",
        "        print(\"Rental Info ---\")\n",
        "        print(\"Monthly Rent : \", self.monthly_rent)\n",
        "        print(\"Is furnished ? \", self.furnished)\n",
        "        print(\"Are Utilities Included ? \", self.utilities)\n",
        "        if not self.utilities:\n",
        "            print(\"Estimated cost of utilities : \", self.estimate)\n",
        "\n",
        "\n",
        "class Purchase(Property):\n",
        "    # Properties for purchase will need to store the purchase price and estimated annual property taxes.\n",
        "    def __init__(self, price=1000, annual_property_tax=100, *super_args):\n",
        "        super().__init__(super_args)\n",
        "        self.price = price\n",
        "        self.annual_property_tax = annual_property_tax\n",
        "\n",
        "    def display(self):\n",
        "        print(\"Purchase Info ---\")\n",
        "        print(\"Price of property : \", self.price)\n",
        "        print(\"Annual property tax : \", self.annual_property_tax)\n",
        "\n",
        "\n",
        "class House_Rental(House, Rental):\n",
        "    def __init__(self, house_args, rental_args):\n",
        "        House.__init__(self, *house_args)\n",
        "        Rental.__init__(self, *rental_args)\n",
        "\n",
        "    def display(self):\n",
        "        Property.display(self)\n",
        "        House.display(self)\n",
        "        Rental.display(self)\n",
        "\n",
        "\n",
        "class House_Purchase(House, Purchase):\n",
        "    def __init__(self, house_args, purchase_args):\n",
        "        House.__init__(self, *house_args)\n",
        "        Purchase.__init__(self, *purchase_args)\n",
        "\n",
        "    def display(self):\n",
        "        Property.display(self)\n",
        "        House.display(self)\n",
        "        Purchase.display(self)\n",
        "\n",
        "\n",
        "class Apartment_Rental(Apartment, Rental):\n",
        "    def __init__(self, apartment_args, rental_args):\n",
        "        Apartment_Rental.__init__(self, *apartment_args)\n",
        "        Rental.__init__(self, *rental_args)\n",
        "\n",
        "    def display(self):\n",
        "        Property.display(self)\n",
        "        Apartment.display(self)\n",
        "        Rental.display(self)\n",
        "\n",
        "\n",
        "class Apartment_Purchase(Apartment, Purchase):\n",
        "    def __init__(self, apartment_args=[], purchase_args=[]):\n",
        "        Apartment.__init__(self, *apartment_args)\n",
        "        Purchase.__init__(self, *purchase_args)\n",
        "\n",
        "    def display(self):\n",
        "        Property.display(self)\n",
        "        Apartment.display(self)\n",
        "        Purchase.display(self)\n",
        "\n",
        "\n",
        "boo = Apartment_Purchase()\n",
        "boo.display()"
      ],
      "execution_count": null,
      "outputs": [
        {
          "output_type": "stream",
          "name": "stdout",
          "text": [
            "Property ---\n",
            "Square footage :  ()\n",
            "Number of bedrooms :  2\n",
            "Number of bathrooms :  1\n",
            "Apartment ---\n",
            "Has balcony ?  True\n",
            "Laundry Type :  en-suite\n",
            "Purchase Info ---\n",
            "Price of property :  1000\n",
            "Annual property tax :  100\n"
          ]
        }
      ]
    },
    {
      "cell_type": "markdown",
      "metadata": {
        "id": "x8QVpchSVjSy"
      },
      "source": [
        "# **ASSIGNMENT 3**"
      ]
    },
    {
      "cell_type": "markdown",
      "metadata": {
        "id": "4TAZZKa9VsYM"
      },
      "source": [
        "Q1 - Extract all odd and even numbers from the given array into two separate arrays.\n",
        "Also update the given array by 0 at the place of even number."
      ]
    },
    {
      "cell_type": "code",
      "metadata": {
        "colab": {
          "base_uri": "https://localhost:8080/"
        },
        "id": "yUFMAQ1M3xSZ",
        "outputId": "d582f8ab-7bd9-4bcf-cdcc-764091abd73c"
      },
      "source": [
        "import numpy as np\n",
        "a = np.array([1,2,35,4,5,64,7,8,9])\n",
        "even=[]\n",
        "odd=[]\n",
        "k=-1\n",
        "for i in a:\n",
        "  k+=1\n",
        "  if i%2==0:\n",
        "    even.append(i)\n",
        "    a[k]=0\n",
        "  else:\n",
        "    odd.append(i)\n",
        "print(a)\n",
        "print(even)\n",
        "print(odd)"
      ],
      "execution_count": null,
      "outputs": [
        {
          "output_type": "stream",
          "name": "stdout",
          "text": [
            "[ 1  0 35  0  5  0  7  0  9]\n",
            "[2, 4, 64, 8]\n",
            "[1, 35, 5, 7, 9]\n"
          ]
        }
      ]
    },
    {
      "cell_type": "markdown",
      "metadata": {
        "id": "uIxVuaaJVy02"
      },
      "source": [
        "Q2 - Replace all odd numbers in the given array with ‘odd’ without changing original\n",
        "array."
      ]
    },
    {
      "cell_type": "code",
      "metadata": {
        "colab": {
          "base_uri": "https://localhost:8080/"
        },
        "id": "K1MnxevkEigS",
        "outputId": "661d9049-71b4-48c9-e5c1-29ee211e5750"
      },
      "source": [
        "import numpy as np\n",
        "a = np.array([1,2,35,4,5,64,7,8,9])\n",
        "a1 = []\n",
        "for i in a:\n",
        "  if i%2!=0:\n",
        "    a1.append('odd')\n",
        "  else:\n",
        "    a1.append(i)  \n",
        "print(a1)  "
      ],
      "execution_count": null,
      "outputs": [
        {
          "output_type": "stream",
          "name": "stdout",
          "text": [
            "['odd', 2, 'odd', 4, 'odd', 64, 'odd', 8, 'odd']\n"
          ]
        }
      ]
    },
    {
      "cell_type": "markdown",
      "metadata": {
        "id": "tKy9S65WV7qe"
      },
      "source": [
        "Q3 - Create the following pattern using numpy inbuilt function having input array\n",
        "a = &#39;How&#39;,&#39;Are&#39;,&#39;You&#39;\n",
        "output:\n",
        "[&#39;How&#39;, &#39;How&#39;, &#39;How&#39;, &#39;Are&#39;, &#39;Are&#39;, &#39;Are&#39;, &#39;You&#39;, &#39;You&#39;, &#39;You&#39;,\n",
        "&#39;How&#39;, &#39;Are&#39;, &#39;You&#39;, &#39;How&#39;, &#39;Are&#39;, &#39;You&#39;, &#39;How&#39;, &#39;Are&#39;, &#39;You&#39;]"
      ]
    },
    {
      "cell_type": "code",
      "metadata": {
        "id": "dVexhq7UFTeP",
        "colab": {
          "base_uri": "https://localhost:8080/"
        },
        "outputId": "52227284-98ac-461b-c637-ac6b7f80ba89"
      },
      "source": [
        "import numpy as np\n",
        "b=np.array(['How','are','you'])\n",
        "np.append(np.resize(b,(3,3)).transpose().flatten(), np.resize(b,(3,3)).flatten())"
      ],
      "execution_count": null,
      "outputs": [
        {
          "output_type": "execute_result",
          "data": {
            "text/plain": [
              "array(['How', 'How', 'How', 'are', 'are', 'are', 'you', 'you', 'you',\n",
              "       'How', 'are', 'you', 'How', 'are', 'you', 'How', 'are', 'you'],\n",
              "      dtype='<U3')"
            ]
          },
          "metadata": {},
          "execution_count": 3
        }
      ]
    },
    {
      "cell_type": "markdown",
      "metadata": {
        "id": "xEleQp8bXDFW"
      },
      "source": [
        "Q4 - Consider the two arrays having input as alphabet, extract the common alphabet\n",
        "elements from the given two arrays."
      ]
    },
    {
      "cell_type": "code",
      "metadata": {
        "colab": {
          "base_uri": "https://localhost:8080/"
        },
        "id": "dUpjhI1DXSaO",
        "outputId": "73500a33-3ef1-4d28-e902-436939b9f676"
      },
      "source": [
        "a=np.array(['a','b','c','d','e','f'])\n",
        "b=np.array(['v','b','u','q','f'])\n",
        "np.intersect1d(a,b)"
      ],
      "execution_count": null,
      "outputs": [
        {
          "output_type": "execute_result",
          "data": {
            "text/plain": [
              "array(['b', 'f'], dtype='<U1')"
            ]
          },
          "metadata": {},
          "execution_count": 4
        }
      ]
    },
    {
      "cell_type": "markdown",
      "metadata": {
        "id": "hdy3CY3TXqXo"
      },
      "source": [
        "Q5 - Write a python code to swap the last two columns of the given array also swap two\n",
        "rows of the given array"
      ]
    },
    {
      "cell_type": "code",
      "metadata": {
        "colab": {
          "base_uri": "https://localhost:8080/"
        },
        "id": "HnBV0-3qXxSr",
        "outputId": "c9bf7c41-4981-48e5-eac9-1138a82f38d9"
      },
      "source": [
        "a=np.arange(9).reshape(3,3)\n",
        "print('Initial array\\n',a)\n",
        "a[:,[1,2]] = a[:,[2,1]]\n",
        "a[[0,1],:] = a[[1,0], :]\n",
        "print('Changed array\\n',a)"
      ],
      "execution_count": null,
      "outputs": [
        {
          "output_type": "stream",
          "name": "stdout",
          "text": [
            "Initial array\n",
            " [[0 1 2]\n",
            " [3 4 5]\n",
            " [6 7 8]]\n",
            "Changed array\n",
            " [[3 5 4]\n",
            " [0 2 1]\n",
            " [6 8 7]]\n"
          ]
        }
      ]
    },
    {
      "cell_type": "markdown",
      "metadata": {
        "id": "iIyQQ_UEYU7f"
      },
      "source": [
        "Q6 - Create 2D array of shape 5x3 to contain random decimal numbers between 6 \n",
        "and 12"
      ]
    },
    {
      "cell_type": "code",
      "metadata": {
        "colab": {
          "base_uri": "https://localhost:8080/"
        },
        "id": "cGctLRGyYgoM",
        "outputId": "0f1d4edb-9228-4677-8ab0-97e28aff8bf3"
      },
      "source": [
        "np.random.uniform(6,12,size=(5,3))"
      ],
      "execution_count": null,
      "outputs": [
        {
          "output_type": "execute_result",
          "data": {
            "text/plain": [
              "array([[ 7.49860273,  7.58226354, 11.85325572],\n",
              "       [ 7.37169479,  6.80888824, 11.65207294],\n",
              "       [10.98220814,  7.33453099,  7.87469219],\n",
              "       [ 6.34000933,  7.71368876,  8.36827567],\n",
              "       [10.72081873,  7.42491008,  8.70587496]])"
            ]
          },
          "metadata": {},
          "execution_count": 6
        }
      ]
    },
    {
      "cell_type": "markdown",
      "metadata": {
        "id": "m_aUzVGyZM53"
      },
      "source": [
        "Q7 - Write a code to print random numbers upto 2 decimal places of numpy array"
      ]
    },
    {
      "cell_type": "code",
      "metadata": {
        "colab": {
          "base_uri": "https://localhost:8080/"
        },
        "id": "0Ov8eUr-ZN2j",
        "outputId": "3fad288a-9812-4059-8345-c2ef23b176f9"
      },
      "source": [
        "np.around(np.random.uniform(0,50,size=3),decimals=2)"
      ],
      "execution_count": null,
      "outputs": [
        {
          "output_type": "execute_result",
          "data": {
            "text/plain": [
              "array([28.79,  9.04, 10.87])"
            ]
          },
          "metadata": {},
          "execution_count": 7
        }
      ]
    },
    {
      "cell_type": "markdown",
      "metadata": {
        "id": "xlj9Fc9-ZnlZ"
      },
      "source": [
        "Q8 - Convert the 1D IRIS to 2D array iris_2d by omitting the species text field.\n",
        "url = &#39;https://archive.ics.uci.edu/ml/machine-learning-databases/iris/iris.data&#39;"
      ]
    },
    {
      "cell_type": "code",
      "metadata": {
        "colab": {
          "base_uri": "https://localhost:8080/"
        },
        "id": "CX6HCfi1aJLQ",
        "outputId": "7445e049-203f-4382-f1ed-4d2108ef3e72"
      },
      "source": [
        "url = 'https://archive.ics.uci.edu/ml/machine-learning-databases/iris/iris.data'\n",
        "iris_1d = np.genfromtxt(url, delimiter=',', dtype=None)\n",
        "iris_2d = np.array([row.tolist()[:4] for row in iris_1d])\n",
        "iris_2d[:4]"
      ],
      "execution_count": null,
      "outputs": [
        {
          "output_type": "stream",
          "name": "stderr",
          "text": [
            "/usr/local/lib/python3.7/dist-packages/ipykernel_launcher.py:2: VisibleDeprecationWarning: Reading unicode strings without specifying the encoding argument is deprecated. Set the encoding, use None for the system default.\n",
            "  \n"
          ]
        },
        {
          "output_type": "execute_result",
          "data": {
            "text/plain": [
              "array([[5.1, 3.5, 1.4, 0.2],\n",
              "       [4.9, 3. , 1.4, 0.2],\n",
              "       [4.7, 3.2, 1.3, 0.2],\n",
              "       [4.6, 3.1, 1.5, 0.2]])"
            ]
          },
          "metadata": {},
          "execution_count": 8
        }
      ]
    },
    {
      "cell_type": "markdown",
      "metadata": {
        "id": "ceAyjrf8aZRI"
      },
      "source": [
        "Q9 - Find the mean, median, standard deviation of iris&#39;s sepallength. [use above link]"
      ]
    },
    {
      "cell_type": "code",
      "metadata": {
        "colab": {
          "base_uri": "https://localhost:8080/"
        },
        "id": "j_o17v2lalmE",
        "outputId": "77350262-28b1-4ba0-feb4-760e108518d9"
      },
      "source": [
        "url = 'https://archive.ics.uci.edu/ml/machine-learning-databases/iris/iris.data'\n",
        "sepallength = np.genfromtxt(url, delimiter=',', dtype=None, usecols=[0])\n",
        "\n",
        "mu, med, sd = np.mean(sepallength), np.median(sepallength), np.std(sepallength)\n",
        "print('Mean',mu,'\\nMedian', med,'\\nStandard Deviation', sd)"
      ],
      "execution_count": null,
      "outputs": [
        {
          "output_type": "stream",
          "name": "stdout",
          "text": [
            "Mean 5.843333333333334 \n",
            "Median 5.8 \n",
            "Standard Deviation 0.8253012917851409\n"
          ]
        }
      ]
    },
    {
      "cell_type": "markdown",
      "metadata": {
        "id": "Sr7bxh-cyJ_i"
      },
      "source": [
        "#**ASSIGNMENT 4**"
      ]
    },
    {
      "cell_type": "markdown",
      "metadata": {
        "id": "oBxUU26a7coa"
      },
      "source": [
        "Read the data from the CSV file stored on the URL, using NumPy Library.\n",
        "url = 'https://archive.ics.uci.edu/ml/machine-learning-databases/iris/iris.data'\n",
        "Take the input of first four columns and then find the 5 closest samples (stored in\n",
        "CSV) of the input taken, by using Euclidean distance between input sample and all\n",
        "samples stored in CSV file. In calculating the distance, ignore the last feature (i.e.\n",
        "class) of the CSV file. Print the class of these closest samples.\n",
        "Note: Here sample means a row of the CSV file"
      ]
    },
    {
      "cell_type": "code",
      "metadata": {
        "id": "OKmFuVogTpJ9"
      },
      "source": [
        "url = 'https://archive.ics.uci.edu/ml/machine-learning-databases/iris/iris.data'"
      ],
      "execution_count": null,
      "outputs": []
    },
    {
      "cell_type": "code",
      "metadata": {
        "id": "1_rqGx4h7blK",
        "colab": {
          "base_uri": "https://localhost:8080/"
        },
        "outputId": "2e139faa-f2d0-4749-f484-8b0d30a7fee1"
      },
      "source": [
        "def myfunc(e):\n",
        "  return e[0]\n",
        "sepal_length = np.genfromtxt(url,delimiter=',',dtype=float,usecols=[0,1,2,3])\n",
        "sepal_class = np.genfromtxt(url,delimiter=',',dtype=str,usecols=[4])\n",
        "sample = np.array([5.7,2.4,4,1])\n",
        "dist = []\n",
        "for index,i in enumerate(sepal_length):\n",
        "  dist.append(np.array([np.linalg.norm(i-sample),sepal_class[index]]))\n",
        "dist.sort(key=myfunc)\n",
        "print(dist[0][1])"
      ],
      "execution_count": null,
      "outputs": [
        {
          "output_type": "stream",
          "name": "stdout",
          "text": [
            "Iris-versicolor\n"
          ]
        }
      ]
    },
    {
      "cell_type": "markdown",
      "metadata": {
        "id": "JQnoQ8LYzWLl"
      },
      "source": [
        "Do the above question by using the Manhattan distance"
      ]
    },
    {
      "cell_type": "code",
      "metadata": {
        "colab": {
          "base_uri": "https://localhost:8080/"
        },
        "id": "G284FyIavHqi",
        "outputId": "74159b40-c877-47d0-fd0d-f124748210f0"
      },
      "source": [
        "def myfunc(e):\n",
        "  return e[0]\n",
        "def cal_manhattan(i,sample):\n",
        "  dist=0\n",
        "  for index,j in enumerate(i):\n",
        "    dist = dist + abs(j-sample[index])\n",
        "  return dist\n",
        "sepal_length = np.genfromtxt(url,delimiter=',',dtype=float,usecols=[0,1,2,3])\n",
        "sepal_class = np.genfromtxt(url,delimiter=',',dtype=str,usecols=[4])\n",
        "sample = np.array([5.7,2.4,4,1])\n",
        "dist = []\n",
        "for index,i in enumerate(sepal_length):\n",
        "  dist.append(np.array([cal_manhattan(i,sample),sepal_class[index]]))\n",
        "dist.sort(key=myfunc)\n",
        "print(dist[0][1])"
      ],
      "execution_count": null,
      "outputs": [
        {
          "output_type": "stream",
          "name": "stdout",
          "text": [
            "Iris-versicolor\n"
          ]
        }
      ]
    },
    {
      "cell_type": "markdown",
      "metadata": {
        "id": "E4t-stHu0crs"
      },
      "source": [
        "Create a CSV file to store the roll number and marks of five subjects of the students.\n",
        "Find the mean of the marks of each student as well as total mean of the data stored.\n",
        "Select the best case, average case and worst case using the means calculated. Display\n",
        "the roll number of these three types of students."
      ]
    },
    {
      "cell_type": "code",
      "metadata": {
        "id": "JBcYxBfu0emc",
        "colab": {
          "base_uri": "https://localhost:8080/"
        },
        "outputId": "094cabca-8a1d-4511-d3a8-704bb3a99ff2"
      },
      "source": [
        "import numpy as np\n",
        "\n",
        "def process_string(s):\n",
        "  s = s.split(\" \")\n",
        "  for index,i in enumerate(s):\n",
        "    s[index] = int(i)\n",
        "  return s\n",
        "def myfunc(e):\n",
        "  return e[0]\n",
        "n = int(input('Enter the number of students: '))\n",
        "i=0\n",
        "db = []\n",
        "while i<n:\n",
        "  temp = input(f'Enter the roll number & marks in 5 subjects for student {i+1}: ')\n",
        "  db.append(process_string(temp))\n",
        "  i = i+1\n",
        "np.savetxt(\"dataQ3.csv\",db,delimiter=',')\n",
        "marks = np.array(db)[:,1:]\n",
        "meanify = np.mean(marks,axis=1)\n",
        "print(f'The individual mean of each student {meanify}')\n",
        "mean_subject = np.mean(marks,axis=0)\n",
        "print(f'The mean of the marks subjectwise {mean_subject}')\n",
        "sum=np.sum(np.array(db)[:,1:])\n",
        "mean_overall = sum/n\n",
        "i=0\n",
        "diff = []\n",
        "while i<n:\n",
        "  diff.append(np.array([meanify[i]-mean_overall,db[i][0]]))\n",
        "  i = i+1\n",
        "diff.sort(key=myfunc)\n",
        "maxi = diff[len(diff)-1][1]\n",
        "mini = diff[0][1]\n",
        "avg = diff[int(len(diff)/2)][1]\n",
        "print(f'The best student is {maxi}\\nThe worst student is {mini}\\nThe average student is {avg}')"
      ],
      "execution_count": null,
      "outputs": [
        {
          "output_type": "stream",
          "name": "stdout",
          "text": [
            "Enter the number of students: 6\n",
            "Enter the roll number & marks in 5 subjects for student 1: 10193140 100 99 100 99 100\n",
            "Enter the roll number & marks in 5 subjects for student 2: 92108102 89 21 78 89 12\n",
            "Enter the roll number & marks in 5 subjects for student 3: 71286682 98 21 09 56 87\n",
            "Enter the roll number & marks in 5 subjects for student 4: 56778756 78 42 98 45 87\n",
            "Enter the roll number & marks in 5 subjects for student 5: 76784532 29 98 93 92 72\n",
            "Enter the roll number & marks in 5 subjects for student 6: 54646464 93 87 12 98 37\n",
            "The individual mean of each student [99.6 57.8 54.2 70.  76.8 65.4]\n",
            "The mean of the marks subjectwise [81.16666667 61.33333333 65.         79.83333333 65.83333333]\n",
            "The best student is 10193140.0\n",
            "The worst student is 71286682.0\n",
            "The average student is 56778756.0\n"
          ]
        }
      ]
    },
    {
      "cell_type": "markdown",
      "metadata": {
        "id": "jDAooIrwKxcH"
      },
      "source": [
        "Q4 Generate a random sequence and then pick up the samples from the CSV file stored\n",
        "in iris dataset. Then find the mean and standard deviation of these randomly selected\n",
        "samples. "
      ]
    },
    {
      "cell_type": "code",
      "metadata": {
        "colab": {
          "base_uri": "https://localhost:8080/"
        },
        "id": "rqG7NC_AHPN9",
        "outputId": "93859c97-449a-4f84-fc45-91fd69f587aa"
      },
      "source": [
        "url = 'https://archive.ics.uci.edu/ml/machine-learning-databases/iris/iris.data'\n",
        "iris_dataset = np.genfromtxt(url,delimiter=',',dtype=float,usecols=[0,1,2,3])\n",
        "import random\n",
        "randomlist = random.sample(range(0, 149), 70)\n",
        "print(randomlist)\n",
        "new_data = iris_dataset[randomlist]\n",
        "print(new_data)\n",
        "print(new_data.mean())\n",
        "print(new_data.std())"
      ],
      "execution_count": null,
      "outputs": [
        {
          "output_type": "stream",
          "name": "stdout",
          "text": [
            "[136, 50, 51, 30, 120, 72, 14, 15, 140, 61, 137, 28, 47, 139, 26, 81, 109, 88, 46, 37, 124, 108, 74, 78, 126, 18, 142, 52, 101, 23, 118, 33, 11, 83, 123, 129, 59, 35, 5, 71, 29, 89, 48, 117, 143, 17, 24, 20, 7, 90, 34, 86, 31, 67, 58, 148, 111, 43, 66, 127, 128, 122, 64, 69, 44, 97, 49, 80, 55, 53]\n",
            "[[6.3 3.4 5.6 2.4]\n",
            " [7.  3.2 4.7 1.4]\n",
            " [6.4 3.2 4.5 1.5]\n",
            " [4.8 3.1 1.6 0.2]\n",
            " [6.9 3.2 5.7 2.3]\n",
            " [6.3 2.5 4.9 1.5]\n",
            " [5.8 4.  1.2 0.2]\n",
            " [5.7 4.4 1.5 0.4]\n",
            " [6.7 3.1 5.6 2.4]\n",
            " [5.9 3.  4.2 1.5]\n",
            " [6.4 3.1 5.5 1.8]\n",
            " [5.2 3.4 1.4 0.2]\n",
            " [4.6 3.2 1.4 0.2]\n",
            " [6.9 3.1 5.4 2.1]\n",
            " [5.  3.4 1.6 0.4]\n",
            " [5.5 2.4 3.7 1. ]\n",
            " [7.2 3.6 6.1 2.5]\n",
            " [5.6 3.  4.1 1.3]\n",
            " [5.1 3.8 1.6 0.2]\n",
            " [4.9 3.1 1.5 0.1]\n",
            " [6.7 3.3 5.7 2.1]\n",
            " [6.7 2.5 5.8 1.8]\n",
            " [6.4 2.9 4.3 1.3]\n",
            " [6.  2.9 4.5 1.5]\n",
            " [6.2 2.8 4.8 1.8]\n",
            " [5.7 3.8 1.7 0.3]\n",
            " [5.8 2.7 5.1 1.9]\n",
            " [6.9 3.1 4.9 1.5]\n",
            " [5.8 2.7 5.1 1.9]\n",
            " [5.1 3.3 1.7 0.5]\n",
            " [7.7 2.6 6.9 2.3]\n",
            " [5.5 4.2 1.4 0.2]\n",
            " [4.8 3.4 1.6 0.2]\n",
            " [6.  2.7 5.1 1.6]\n",
            " [6.3 2.7 4.9 1.8]\n",
            " [7.2 3.  5.8 1.6]\n",
            " [5.2 2.7 3.9 1.4]\n",
            " [5.  3.2 1.2 0.2]\n",
            " [5.4 3.9 1.7 0.4]\n",
            " [6.1 2.8 4.  1.3]\n",
            " [4.7 3.2 1.6 0.2]\n",
            " [5.5 2.5 4.  1.3]\n",
            " [5.3 3.7 1.5 0.2]\n",
            " [7.7 3.8 6.7 2.2]\n",
            " [6.8 3.2 5.9 2.3]\n",
            " [5.1 3.5 1.4 0.3]\n",
            " [4.8 3.4 1.9 0.2]\n",
            " [5.4 3.4 1.7 0.2]\n",
            " [5.  3.4 1.5 0.2]\n",
            " [5.5 2.6 4.4 1.2]\n",
            " [4.9 3.1 1.5 0.1]\n",
            " [6.7 3.1 4.7 1.5]\n",
            " [5.4 3.4 1.5 0.4]\n",
            " [5.8 2.7 4.1 1. ]\n",
            " [6.6 2.9 4.6 1.3]\n",
            " [6.2 3.4 5.4 2.3]\n",
            " [6.4 2.7 5.3 1.9]\n",
            " [5.  3.5 1.6 0.6]\n",
            " [5.6 3.  4.5 1.5]\n",
            " [6.1 3.  4.9 1.8]\n",
            " [6.4 2.8 5.6 2.1]\n",
            " [7.7 2.8 6.7 2. ]\n",
            " [5.6 2.9 3.6 1.3]\n",
            " [5.6 2.5 3.9 1.1]\n",
            " [5.1 3.8 1.9 0.4]\n",
            " [6.2 2.9 4.3 1.3]\n",
            " [5.  3.3 1.4 0.2]\n",
            " [5.5 2.4 3.8 1.1]\n",
            " [5.7 2.8 4.5 1.3]\n",
            " [5.5 2.3 4.  1.3]]\n",
            "3.4721428571428574\n",
            "1.9820108064121886\n"
          ]
        }
      ]
    },
    {
      "cell_type": "markdown",
      "metadata": {
        "id": "wYtk2uq5K1wj"
      },
      "source": [
        "# **ASSIGNMENT 5**"
      ]
    },
    {
      "cell_type": "markdown",
      "metadata": {
        "id": "L2MjcOtqLk2w"
      },
      "source": [
        "Q1 Write a program to count the number of vowels in a text file"
      ]
    },
    {
      "cell_type": "code",
      "metadata": {
        "colab": {
          "base_uri": "https://localhost:8080/"
        },
        "id": "JtG2aabXJq3b",
        "outputId": "767639ff-ef15-4550-a504-9f357aad1d91"
      },
      "source": [
        "file = open('/content/drive/MyDrive/ds/vowels .txt','r')\n",
        "temp = file.read()\n",
        "count=0\n",
        "print(temp)\n",
        "vowels = ['a', 'e', 'i', 'o', 'u', 'A', 'E', 'I', 'O', 'U']\n",
        "for i in temp:\n",
        "  if i in vowels:\n",
        "    count = count + 1\n",
        "print(count)"
      ],
      "execution_count": null,
      "outputs": [
        {
          "output_type": "stream",
          "name": "stdout",
          "text": [
            "Jhasjbjabjbajstuyiudasbdjabjdhsbasjdkhajda. Jashaksj uyeiw ooasdjka ldjakndkda 7932 jhsdkjbas. Odaoiusdioha 8wq dsaykjd jhjkdkasdjhakhdahd oasidhkhaskd. Uauhdsjhasjdbjas iohasihdjgasjdjhas iouaidhiasgdjhgas y89iadudyiua dakhdkja.Jhasjbjabjbajstuyiudasbdjabjdhsbasjdkhajda. Jashaksj uyeiw ooasdjka ldjakndkda 7932 jhsdkjbas. Odaoiusdioha 8wq dsaykjd jhjkdkasdjhakhdahd oasidhkhaskd. Uauhdsjhasjdbjas iohasihdjgasjdjhas iouaidhiasgdjhgas y89iadudyiua dakhdkja.\n",
            "132\n"
          ]
        }
      ]
    },
    {
      "cell_type": "code",
      "metadata": {
        "colab": {
          "base_uri": "https://localhost:8080/"
        },
        "id": "CLLRKwrGMzk8",
        "outputId": "cacd7aea-d69a-4000-f996-4939c1fe97b7"
      },
      "source": [
        "file = open('/content/drive/MyDrive/ds/vowels .txt','r')\n",
        "file2 = open('/content/drive/MyDrive/ds/empty.txt','r')\n",
        "file1_content = file.read()\n",
        "file2_content = file2.read()\n",
        "print(f'Content of file 1 - {file1_content}')\n",
        "print(f'Content of file 2 - {file2_content}')\n",
        "file2.close()\n",
        "file2 = open('/content/drive/MyDrive/ds/empty.txt','w')\n",
        "index = 0\n",
        "while index<len(file1_content):\n",
        "  file2_content = file2_content + (file1_content[index])\n",
        "  index = index + 2\n",
        "file2.write(file2_content)\n",
        "file2.close()\n",
        "file2 = open('/content/drive/MyDrive/ds/empty.txt','r')\n",
        "print(f'Content of file 2 after changing - {file2.read()}')"
      ],
      "execution_count": null,
      "outputs": [
        {
          "output_type": "stream",
          "name": "stdout",
          "text": [
            "Content of file 1 - Jhasjbjabjbajstuyiudasbdjabjdhsbasjdkhajda. Jashaksj uyeiw ooasdjka ldjakndkda 7932 jhsdkjbas. Odaoiusdioha 8wq dsaykjd jhjkdkasdjhakhdahd oasidhkhaskd. Uauhdsjhasjdbjas iohasihdjgasjdjhas iouaidhiasgdjhgas y89iadudyiua dakhdkja.Jhasjbjabjbajstuyiudasbdjabjdhsbasjdkhajda. Jashaksj uyeiw ooasdjka ldjakndkda 7932 jhsdkjbas. Odaoiusdioha 8wq dsaykjd jhjkdkasdjhakhdahd oasidhkhaskd. Uauhdsjhasjdbjas iohasihdjgasjdjhas iouaidhiasgdjhgas y89iadudyiua dakhdkja.\n",
            "Content of file 2 - \n",
            "Content of file 2 after changing - Jajjbbjtyuabjbdsajkad.Jsas yi osjaljkdd 92jskbs doudoa8qdakdjjdadhkdh aihhsd ahshsdjsihshjajja oadisdha 8iddiadkdj.hsbajasuidsdajhbsdhja ahkjuewoadk danka73 hdja.Oaisih w syj hkksjahadosdkak.Uudjajba oaidgsdhsiuihagjgsy9auyu ahka\n"
          ]
        }
      ]
    },
    {
      "cell_type": "code",
      "metadata": {
        "colab": {
          "base_uri": "https://localhost:8080/"
        },
        "id": "t8IdP7fzWBBs",
        "outputId": "cf310799-ea04-4537-f0a6-8fa01df3821a"
      },
      "source": [
        "file = open('//content/drive/MyDrive/ds/vowels .txt','r')\n",
        "file2 = open('/content/drive/MyDrive/ds/empty.txt','w')\n",
        "file2.write('')\n",
        "file2.close()\n",
        "file2 = open('/content/drive/MyDrive/ds/empty.txt','r')\n",
        "file1_content = file.read()\n",
        "file2_content = file2.read()\n",
        "print(f'Content of file 1 - {file1_content}')\n",
        "print(f'Content of file 2 - {file2_content}')\n",
        "file2.close()\n",
        "file.close()\n",
        "file = open('/content/drive/MyDrive/ds/empty.txt','r')\n",
        "file2 = open('/content/drive/MyDrive/ds/empty.txt','w')\n",
        "data = file.readlines()\n",
        "index=0\n",
        "file2_content = ''\n",
        "while index<len(data):\n",
        "  file2_content = file2_content + data[index]\n",
        "  index = index + 2\n",
        "file2.write(file2_content)\n",
        "file2 = open('/content/drive/MyDrive/ds/empty.txt','r')\n",
        "print(f'Content of file 2 after changing - {file2.read()}')"
      ],
      "execution_count": null,
      "outputs": [
        {
          "output_type": "stream",
          "name": "stdout",
          "text": [
            "Content of file 1 - Jhasjbjabjbajstuyiudasbdjabjdhsbasjdkhajda. Jashaksj uyeiw ooasdjka ldjakndkda 7932 jhsdkjbas. Odaoiusdioha 8wq dsaykjd jhjkdkasdjhakhdahd oasidhkhaskd. Uauhdsjhasjdbjas iohasihdjgasjdjhas iouaidhiasgdjhgas y89iadudyiua dakhdkja.Jhasjbjabjbajstuyiudasbdjabjdhsbasjdkhajda. Jashaksj uyeiw ooasdjka ldjakndkda 7932 jhsdkjbas. Odaoiusdioha 8wq dsaykjd jhjkdkasdjhakhdahd oasidhkhaskd. Uauhdsjhasjdbjas iohasihdjgasjdjhas iouaidhiasgdjhgas y89iadudyiua dakhdkja.\n",
            "Content of file 2 - \n",
            "Content of file 2 after changing - \n"
          ]
        }
      ]
    },
    {
      "cell_type": "code",
      "metadata": {
        "colab": {
          "base_uri": "https://localhost:8080/"
        },
        "id": "HAHXzun6WSdF",
        "outputId": "bd0bb2eb-5fb3-472e-aeb9-0d463fd5ba6a"
      },
      "source": [
        "file = open('/content/drive/MyDrive/ds/vowels .txt','r')\n",
        "file2 = open('/content/drive/MyDrive/ds/empty.txt','w')\n",
        "file2.write('')\n",
        "file2.close()\n",
        "file2 = open('/content/drive/MyDrive/ds/empty.txt','r')\n",
        "file1_content = file.read()\n",
        "file2_content = file2.read()\n",
        "print(f'Content of file 1 - {file1_content}')\n",
        "print(f'Content of file 2 - {file2_content}')\n",
        "file2.close()\n",
        "file.close()\n",
        "file = open('/content/drive/MyDrive/ds/empty.txt','r')\n",
        "file2 = open('/content/drive/MyDrive/ds/empty.txt','w')\n",
        "data = file.readlines()\n",
        "index=0\n",
        "file2_content = ''\n",
        "for line in data:\n",
        "  if len(line)>=50:\n",
        "    file2_content = file2_content + line\n",
        "file2.write(file2_content)\n",
        "file2 = open('/content/drive/MyDrive/ds/empty.txt','r')\n",
        "print(f'Content of file 2 after changing - {file2.read()}')"
      ],
      "execution_count": null,
      "outputs": [
        {
          "output_type": "stream",
          "name": "stdout",
          "text": [
            "Content of file 1 - Jhasjbjabjbajstuyiudasbdjabjdhsbasjdkhajda. Jashaksj uyeiw ooasdjka ldjakndkda 7932 jhsdkjbas. Odaoiusdioha 8wq dsaykjd jhjkdkasdjhakhdahd oasidhkhaskd. Uauhdsjhasjdbjas iohasihdjgasjdjhas iouaidhiasgdjhgas y89iadudyiua dakhdkja.Jhasjbjabjbajstuyiudasbdjabjdhsbasjdkhajda. Jashaksj uyeiw ooasdjka ldjakndkda 7932 jhsdkjbas. Odaoiusdioha 8wq dsaykjd jhjkdkasdjhakhdahd oasidhkhaskd. Uauhdsjhasjdbjas iohasihdjgasjdjhas iouaidhiasgdjhgas y89iadudyiua dakhdkja.\n",
            "Content of file 2 - \n",
            "Content of file 2 after changing - \n"
          ]
        }
      ]
    },
    {
      "cell_type": "code",
      "metadata": {
        "colab": {
          "base_uri": "https://localhost:8080/",
          "height": 282
        },
        "id": "vMYw07dValLp",
        "outputId": "44232f12-6e26-4d6e-e265-82401ef40fb6"
      },
      "source": [
        "import matplotlib.pyplot as plt\n",
        "my_temp = {}\n",
        "file = open('/content/drive/MyDrive/ds/vowels .txt','r')\n",
        "file_content = file.read()\n",
        "for i in file_content:\n",
        "  if i != ' ':\n",
        "    if i in my_temp.keys():\n",
        "      my_temp[i] = my_temp[i] + 1\n",
        "    else:\n",
        "      my_temp[i] = 0\n",
        "plt.bar(my_temp.keys(),my_temp.values())"
      ],
      "execution_count": null,
      "outputs": [
        {
          "output_type": "execute_result",
          "data": {
            "text/plain": [
              "<BarContainer object of 27 artists>"
            ]
          },
          "metadata": {},
          "execution_count": 27
        },
        {
          "output_type": "display_data",
          "data": {
            "image/png": "[encoded data removed]",
            "text/plain": [
              "<Figure size 432x288 with 1 Axes>"
            ]
          },
          "metadata": {
            "needs_background": "light"
          }
        }
      ]
    },
    {
      "cell_type": "code",
      "metadata": {
        "id": "HF4pthYia5f6",
        "colab": {
          "base_uri": "https://localhost:8080/"
        },
        "outputId": "71d649e4-4fdf-4183-f7e0-a622cc4e2b26"
      },
      "source": [
        "def standard_deviation(mean,array):\n",
        "  sum_sq=0\n",
        "  for i in array:\n",
        "    sum_sq = sum_sq + (i-mean)**2\n",
        "  return math.sqrt(sum_sq/len(array))\n",
        "import pandas as pd\n",
        "import numpy as np\n",
        "import math\n",
        "df = pd.read_csv('/content/drive/MyDrive/ds/Iris.csv')\n",
        "print(df.head())\n",
        "for i in df.columns:\n",
        "  if df[i].dtype!='object':\n",
        "    mean = np.sum(df[i])/len(df[i])\n",
        "    print(f'The mean of {i} is {mean}')\n",
        "    col = np.array(df[i])\n",
        "    col = np.sort(col)\n",
        "    print(f'The median of {i} is {df[i][int(len(col)/2)]}')\n",
        "    print(f'The standard deviation of {i} is {standard_deviation(mean,df[i])}')\n"
      ],
      "execution_count": null,
      "outputs": [
        {
          "output_type": "stream",
          "name": "stdout",
          "text": [
            "   sepal length  sepal width  petal length  petal width        Class\n",
            "0           5.1          3.5           1.4          0.2  Iris-setosa\n",
            "1           4.9          3.0           1.4          0.2  Iris-setosa\n",
            "2           4.7          3.2           1.3          0.2  Iris-setosa\n",
            "3           4.6          3.1           1.5          0.2  Iris-setosa\n",
            "4           5.0          3.6           1.4          0.2  Iris-setosa\n",
            "The mean of sepal length is 5.843333333333334\n",
            "The median of sepal length is 6.6\n",
            "The standard deviation of sepal length is 0.8253012917851408\n",
            "The mean of sepal width is 3.0540000000000003\n",
            "The median of sepal width is 3.0\n",
            "The standard deviation of sepal width is 0.43214658007054363\n",
            "The mean of petal length is 3.758666666666666\n",
            "The median of petal length is 4.4\n",
            "The standard deviation of petal length is 1.7585291834055212\n",
            "The mean of petal width is 1.1986666666666668\n",
            "The median of petal width is 1.4\n",
            "The standard deviation of petal width is 0.7606126185881718\n"
          ]
        }
      ]
    },
    {
      "cell_type": "markdown",
      "metadata": {
        "id": "EfgUTvcEOrMd"
      },
      "source": [
        "# **ASSIGNMENT 6**"
      ]
    },
    {
      "cell_type": "code",
      "metadata": {
        "colab": {
          "base_uri": "https://localhost:8080/",
          "height": 417
        },
        "id": "_wrUZekdOs8s",
        "outputId": "da40ff3e-7b45-4b6f-aac5-e25173e0baee"
      },
      "source": [
        "import pandas as pd\n",
        "import numpy as np\n",
        "\n",
        "df = pd.read_csv('/content/drive/MyDrive/ds/iris_01.csv')\n",
        "df"
      ],
      "execution_count": null,
      "outputs": [
        {
          "output_type": "execute_result",
          "data": {
            "text/html": [
              "<div>\n",
              "<style scoped>\n",
              "    .dataframe tbody tr th:only-of-type {\n",
              "        vertical-align: middle;\n",
              "    }\n",
              "\n",
              "    .dataframe tbody tr th {\n",
              "        vertical-align: top;\n",
              "    }\n",
              "\n",
              "    .dataframe thead th {\n",
              "        text-align: right;\n",
              "    }\n",
              "</style>\n",
              "<table border=\"1\" class=\"dataframe\">\n",
              "  <thead>\n",
              "    <tr style=\"text-align: right;\">\n",
              "      <th></th>\n",
              "      <th>Unnamed: 0</th>\n",
              "      <th>sepal length (cm)</th>\n",
              "      <th>sepal width (cm)</th>\n",
              "      <th>petal length (cm)</th>\n",
              "      <th>petal width (cm)</th>\n",
              "      <th>Class</th>\n",
              "      <th>Predicted_class</th>\n",
              "    </tr>\n",
              "  </thead>\n",
              "  <tbody>\n",
              "    <tr>\n",
              "      <th>0</th>\n",
              "      <td>0</td>\n",
              "      <td>5.1</td>\n",
              "      <td>3.5</td>\n",
              "      <td>1.4</td>\n",
              "      <td>0.2</td>\n",
              "      <td>0</td>\n",
              "      <td>0</td>\n",
              "    </tr>\n",
              "    <tr>\n",
              "      <th>1</th>\n",
              "      <td>1</td>\n",
              "      <td>4.9</td>\n",
              "      <td>3.0</td>\n",
              "      <td>1.4</td>\n",
              "      <td>0.2</td>\n",
              "      <td>0</td>\n",
              "      <td>0</td>\n",
              "    </tr>\n",
              "    <tr>\n",
              "      <th>2</th>\n",
              "      <td>2</td>\n",
              "      <td>4.7</td>\n",
              "      <td>3.2</td>\n",
              "      <td>1.3</td>\n",
              "      <td>0.2</td>\n",
              "      <td>0</td>\n",
              "      <td>0</td>\n",
              "    </tr>\n",
              "    <tr>\n",
              "      <th>3</th>\n",
              "      <td>3</td>\n",
              "      <td>4.6</td>\n",
              "      <td>3.1</td>\n",
              "      <td>1.5</td>\n",
              "      <td>0.2</td>\n",
              "      <td>0</td>\n",
              "      <td>0</td>\n",
              "    </tr>\n",
              "    <tr>\n",
              "      <th>4</th>\n",
              "      <td>4</td>\n",
              "      <td>5.0</td>\n",
              "      <td>3.6</td>\n",
              "      <td>1.4</td>\n",
              "      <td>0.2</td>\n",
              "      <td>0</td>\n",
              "      <td>0</td>\n",
              "    </tr>\n",
              "    <tr>\n",
              "      <th>...</th>\n",
              "      <td>...</td>\n",
              "      <td>...</td>\n",
              "      <td>...</td>\n",
              "      <td>...</td>\n",
              "      <td>...</td>\n",
              "      <td>...</td>\n",
              "      <td>...</td>\n",
              "    </tr>\n",
              "    <tr>\n",
              "      <th>145</th>\n",
              "      <td>145</td>\n",
              "      <td>0.0</td>\n",
              "      <td>3.0</td>\n",
              "      <td>5.2</td>\n",
              "      <td>2.3</td>\n",
              "      <td>2</td>\n",
              "      <td>2</td>\n",
              "    </tr>\n",
              "    <tr>\n",
              "      <th>146</th>\n",
              "      <td>146</td>\n",
              "      <td>6.3</td>\n",
              "      <td>2.5</td>\n",
              "      <td>5.0</td>\n",
              "      <td>1.9</td>\n",
              "      <td>2</td>\n",
              "      <td>2</td>\n",
              "    </tr>\n",
              "    <tr>\n",
              "      <th>147</th>\n",
              "      <td>147</td>\n",
              "      <td>6.5</td>\n",
              "      <td>3.0</td>\n",
              "      <td>5.2</td>\n",
              "      <td>2.0</td>\n",
              "      <td>2</td>\n",
              "      <td>2</td>\n",
              "    </tr>\n",
              "    <tr>\n",
              "      <th>148</th>\n",
              "      <td>148</td>\n",
              "      <td>6.2</td>\n",
              "      <td>0.0</td>\n",
              "      <td>5.4</td>\n",
              "      <td>2.3</td>\n",
              "      <td>2</td>\n",
              "      <td>0</td>\n",
              "    </tr>\n",
              "    <tr>\n",
              "      <th>149</th>\n",
              "      <td>149</td>\n",
              "      <td>5.9</td>\n",
              "      <td>3.0</td>\n",
              "      <td>5.1</td>\n",
              "      <td>1.8</td>\n",
              "      <td>2</td>\n",
              "      <td>2</td>\n",
              "    </tr>\n",
              "  </tbody>\n",
              "</table>\n",
              "<p>150 rows × 7 columns</p>\n",
              "</div>"
            ],
            "text/plain": [
              "     Unnamed: 0  sepal length (cm)  ...  Class  Predicted_class\n",
              "0             0                5.1  ...      0                0\n",
              "1             1                4.9  ...      0                0\n",
              "2             2                4.7  ...      0                0\n",
              "3             3                4.6  ...      0                0\n",
              "4             4                5.0  ...      0                0\n",
              "..          ...                ...  ...    ...              ...\n",
              "145         145                0.0  ...      2                2\n",
              "146         146                6.3  ...      2                2\n",
              "147         147                6.5  ...      2                2\n",
              "148         148                6.2  ...      2                0\n",
              "149         149                5.9  ...      2                2\n",
              "\n",
              "[150 rows x 7 columns]"
            ]
          },
          "metadata": {},
          "execution_count": 30
        }
      ]
    },
    {
      "cell_type": "code",
      "metadata": {
        "colab": {
          "base_uri": "https://localhost:8080/",
          "height": 417
        },
        "id": "jb_6xP-3PEoG",
        "outputId": "722ff39d-c167-4ec4-a697-a99ec3e502ae"
      },
      "source": [
        "#mean\n",
        "for i in df.columns:\n",
        "  df[i].fillna(df[i].mean)\n",
        "#median\n",
        "for i in df.columns:\n",
        "  df[i].fillna(df[i].median)\n",
        "#mode\n",
        "for i in df.columns:\n",
        "  df[i].fillna(df[i].mode)\n",
        "#zero\n",
        "for i in df.columns:\n",
        "  df[i].fillna(0)\n",
        "#maximum\n",
        "for i in df.columns:\n",
        "  df[i].fillna(df[i].max())\n",
        "df"
      ],
      "execution_count": null,
      "outputs": [
        {
          "output_type": "execute_result",
          "data": {
            "text/html": [
              "<div>\n",
              "<style scoped>\n",
              "    .dataframe tbody tr th:only-of-type {\n",
              "        vertical-align: middle;\n",
              "    }\n",
              "\n",
              "    .dataframe tbody tr th {\n",
              "        vertical-align: top;\n",
              "    }\n",
              "\n",
              "    .dataframe thead th {\n",
              "        text-align: right;\n",
              "    }\n",
              "</style>\n",
              "<table border=\"1\" class=\"dataframe\">\n",
              "  <thead>\n",
              "    <tr style=\"text-align: right;\">\n",
              "      <th></th>\n",
              "      <th>Unnamed: 0</th>\n",
              "      <th>sepal length (cm)</th>\n",
              "      <th>sepal width (cm)</th>\n",
              "      <th>petal length (cm)</th>\n",
              "      <th>petal width (cm)</th>\n",
              "      <th>Class</th>\n",
              "      <th>Predicted_class</th>\n",
              "    </tr>\n",
              "  </thead>\n",
              "  <tbody>\n",
              "    <tr>\n",
              "      <th>0</th>\n",
              "      <td>0</td>\n",
              "      <td>5.1</td>\n",
              "      <td>3.5</td>\n",
              "      <td>1.4</td>\n",
              "      <td>0.2</td>\n",
              "      <td>0</td>\n",
              "      <td>0</td>\n",
              "    </tr>\n",
              "    <tr>\n",
              "      <th>1</th>\n",
              "      <td>1</td>\n",
              "      <td>4.9</td>\n",
              "      <td>3.0</td>\n",
              "      <td>1.4</td>\n",
              "      <td>0.2</td>\n",
              "      <td>0</td>\n",
              "      <td>0</td>\n",
              "    </tr>\n",
              "    <tr>\n",
              "      <th>2</th>\n",
              "      <td>2</td>\n",
              "      <td>4.7</td>\n",
              "      <td>3.2</td>\n",
              "      <td>1.3</td>\n",
              "      <td>0.2</td>\n",
              "      <td>0</td>\n",
              "      <td>0</td>\n",
              "    </tr>\n",
              "    <tr>\n",
              "      <th>3</th>\n",
              "      <td>3</td>\n",
              "      <td>4.6</td>\n",
              "      <td>3.1</td>\n",
              "      <td>1.5</td>\n",
              "      <td>0.2</td>\n",
              "      <td>0</td>\n",
              "      <td>0</td>\n",
              "    </tr>\n",
              "    <tr>\n",
              "      <th>4</th>\n",
              "      <td>4</td>\n",
              "      <td>5.0</td>\n",
              "      <td>3.6</td>\n",
              "      <td>1.4</td>\n",
              "      <td>0.2</td>\n",
              "      <td>0</td>\n",
              "      <td>0</td>\n",
              "    </tr>\n",
              "    <tr>\n",
              "      <th>...</th>\n",
              "      <td>...</td>\n",
              "      <td>...</td>\n",
              "      <td>...</td>\n",
              "      <td>...</td>\n",
              "      <td>...</td>\n",
              "      <td>...</td>\n",
              "      <td>...</td>\n",
              "    </tr>\n",
              "    <tr>\n",
              "      <th>145</th>\n",
              "      <td>145</td>\n",
              "      <td>0.0</td>\n",
              "      <td>3.0</td>\n",
              "      <td>5.2</td>\n",
              "      <td>2.3</td>\n",
              "      <td>2</td>\n",
              "      <td>2</td>\n",
              "    </tr>\n",
              "    <tr>\n",
              "      <th>146</th>\n",
              "      <td>146</td>\n",
              "      <td>6.3</td>\n",
              "      <td>2.5</td>\n",
              "      <td>5.0</td>\n",
              "      <td>1.9</td>\n",
              "      <td>2</td>\n",
              "      <td>2</td>\n",
              "    </tr>\n",
              "    <tr>\n",
              "      <th>147</th>\n",
              "      <td>147</td>\n",
              "      <td>6.5</td>\n",
              "      <td>3.0</td>\n",
              "      <td>5.2</td>\n",
              "      <td>2.0</td>\n",
              "      <td>2</td>\n",
              "      <td>2</td>\n",
              "    </tr>\n",
              "    <tr>\n",
              "      <th>148</th>\n",
              "      <td>148</td>\n",
              "      <td>6.2</td>\n",
              "      <td>0.0</td>\n",
              "      <td>5.4</td>\n",
              "      <td>2.3</td>\n",
              "      <td>2</td>\n",
              "      <td>0</td>\n",
              "    </tr>\n",
              "    <tr>\n",
              "      <th>149</th>\n",
              "      <td>149</td>\n",
              "      <td>5.9</td>\n",
              "      <td>3.0</td>\n",
              "      <td>5.1</td>\n",
              "      <td>1.8</td>\n",
              "      <td>2</td>\n",
              "      <td>2</td>\n",
              "    </tr>\n",
              "  </tbody>\n",
              "</table>\n",
              "<p>150 rows × 7 columns</p>\n",
              "</div>"
            ],
            "text/plain": [
              "     Unnamed: 0  sepal length (cm)  ...  Class  Predicted_class\n",
              "0             0                5.1  ...      0                0\n",
              "1             1                4.9  ...      0                0\n",
              "2             2                4.7  ...      0                0\n",
              "3             3                4.6  ...      0                0\n",
              "4             4                5.0  ...      0                0\n",
              "..          ...                ...  ...    ...              ...\n",
              "145         145                0.0  ...      2                2\n",
              "146         146                6.3  ...      2                2\n",
              "147         147                6.5  ...      2                2\n",
              "148         148                6.2  ...      2                0\n",
              "149         149                5.9  ...      2                2\n",
              "\n",
              "[150 rows x 7 columns]"
            ]
          },
          "metadata": {},
          "execution_count": 31
        }
      ]
    },
    {
      "cell_type": "code",
      "metadata": {
        "colab": {
          "base_uri": "https://localhost:8080/"
        },
        "id": "Idw0P_0YPa_v",
        "outputId": "4eafe3e4-fb89-4456-e225-c5ee09b2540d"
      },
      "source": [
        "n=len(df['Class'].unique())\n",
        "confusion_mat = np.zeros((n,n))\n",
        "print(confusion_mat)\n",
        "new_df = np.array(df.iloc[:,5:])\n",
        "for i in range(len(new_df)):\n",
        "  confusion_mat[new_df[i][0]][new_df[i][1]] = confusion_mat[new_df[i][0]][new_df[i][1]] + 1\n",
        "print(confusion_mat) "
      ],
      "execution_count": null,
      "outputs": [
        {
          "output_type": "stream",
          "name": "stdout",
          "text": [
            "[[0. 0. 0.]\n",
            " [0. 0. 0.]\n",
            " [0. 0. 0.]]\n",
            "[[46.  2.  2.]\n",
            " [ 0. 45.  5.]\n",
            " [ 2.  4. 44.]]\n"
          ]
        }
      ]
    },
    {
      "cell_type": "code",
      "metadata": {
        "colab": {
          "base_uri": "https://localhost:8080/"
        },
        "id": "Gg6r8yToTxSQ",
        "outputId": "48a6e6e7-eb45-4e14-eb24-da3f82e5292c"
      },
      "source": [
        "TP=0\n",
        "TN=0\n",
        "FP=0\n",
        "FN=0\n",
        "\n",
        "def get_tp(confusion_mat):\n",
        "  sum=0\n",
        "  for i in range(len(confusion_mat)):\n",
        "    for j in range(len(confusion_mat)):\n",
        "      if i==j:\n",
        "        sum=sum+confusion_mat[i][j]\n",
        "  return sum\n",
        "def get_tn(confusion_mat,index):\n",
        "  sum=0\n",
        "  for i in range(len(confusion_mat)):\n",
        "    for j in range(len(confusion_mat)):\n",
        "      if i!=index and j!=index:\n",
        "        sum=sum+confusion_mat[i][j]\n",
        "  return sum\n",
        "def get_fp(confusion_mat,index):\n",
        "  sum=0\n",
        "  for j in range(len(confusion_mat)):\n",
        "    if j!=index:\n",
        "      sum=sum+confusion_mat[j][index]\n",
        "  return sum\n",
        "def get_fn(confusion_mat,index):\n",
        "  sum=0\n",
        "  for j in range(len(confusion_mat)):\n",
        "    if j!=index:\n",
        "      sum=sum+confusion_mat[index][j]\n",
        "  return sum\n",
        "TP = get_tp(confusion_mat)\n",
        "TN = get_tn(confusion_mat,0)\n",
        "FP = get_fp(confusion_mat,0)\n",
        "FN = get_fn(confusion_mat,0)\n",
        "print(TP,TN,FP,FN)"
      ],
      "execution_count": null,
      "outputs": [
        {
          "output_type": "stream",
          "name": "stdout",
          "text": [
            "135.0 98.0 2.0 4.0\n"
          ]
        }
      ]
    },
    {
      "cell_type": "code",
      "metadata": {
        "colab": {
          "base_uri": "https://localhost:8080/"
        },
        "id": "8PnY7UpyglgY",
        "outputId": "ef73f5ff-cd98-4fcd-928c-d722ff11d798"
      },
      "source": [
        "print(f'TPR - {TP/(TP+FN)}')\n",
        "print(f'TNR - {TN/(TN+FP)}')\n",
        "print(f'FPR - {FP/(FP+TN)}')\n",
        "print(f'FNR - {FN/(FN+TP)}')"
      ],
      "execution_count": null,
      "outputs": [
        {
          "output_type": "stream",
          "name": "stdout",
          "text": [
            "TPR - 0.9712230215827338\n",
            "TNR - 0.98\n",
            "FPR - 0.02\n",
            "FNR - 0.02877697841726619\n"
          ]
        }
      ]
    },
    {
      "cell_type": "code",
      "metadata": {
        "colab": {
          "base_uri": "https://localhost:8080/"
        },
        "id": "w7o40Uf6hY5-",
        "outputId": "b5d5f8ea-51c7-4aee-f694-fa27ba2c670c"
      },
      "source": [
        "accuracy=(TP+TN)/(TP+TN+FN+FP)\n",
        "precision=(TP)/(TP+FP)\n",
        "recall=(TP)/(TP+FN)\n",
        "print(f'ACCURACY - {accuracy}')\n",
        "print(f'PRECISION - {precision}')\n",
        "print(f'RECALL - {recall}')"
      ],
      "execution_count": null,
      "outputs": [
        {
          "output_type": "stream",
          "name": "stdout",
          "text": [
            "ACCURACY - 0.9748953974895398\n",
            "PRECISION - 0.9854014598540146\n",
            "RECALL - 0.9712230215827338\n"
          ]
        }
      ]
    },
    {
      "cell_type": "code",
      "metadata": {
        "colab": {
          "base_uri": "https://localhost:8080/"
        },
        "id": "Uo5Xfk8bhpr0",
        "outputId": "ba4da2f5-67de-46ad-c63f-f5500b6f8289"
      },
      "source": [
        "beta=2\n",
        "f_beta = ((1+pow(beta,2))*(recall*precision))/((pow(beta,2)*precision)+recall)\n",
        "print(f'F-beta - {f_beta}')\n",
        "beta=1\n",
        "f_1 = ((1+pow(beta,2))*(recall*precision))/((pow(beta,2)*precision)+recall)\n",
        "print(f'F-1 - {f_1}')"
      ],
      "execution_count": null,
      "outputs": [
        {
          "output_type": "stream",
          "name": "stdout",
          "text": [
            "F-beta - 0.9740259740259739\n",
            "F-1 - 0.9782608695652174\n"
          ]
        }
      ]
    },
    {
      "cell_type": "code",
      "metadata": {
        "colab": {
          "base_uri": "https://localhost:8080/",
          "height": 295
        },
        "id": "LOSgx4ikjJJK",
        "outputId": "51143e0a-5215-4b46-8457-86b87c8f0e0d"
      },
      "source": [
        "df.describe()"
      ],
      "execution_count": null,
      "outputs": [
        {
          "output_type": "execute_result",
          "data": {
            "text/html": [
              "<div>\n",
              "<style scoped>\n",
              "    .dataframe tbody tr th:only-of-type {\n",
              "        vertical-align: middle;\n",
              "    }\n",
              "\n",
              "    .dataframe tbody tr th {\n",
              "        vertical-align: top;\n",
              "    }\n",
              "\n",
              "    .dataframe thead th {\n",
              "        text-align: right;\n",
              "    }\n",
              "</style>\n",
              "<table border=\"1\" class=\"dataframe\">\n",
              "  <thead>\n",
              "    <tr style=\"text-align: right;\">\n",
              "      <th></th>\n",
              "      <th>Unnamed: 0</th>\n",
              "      <th>sepal length (cm)</th>\n",
              "      <th>sepal width (cm)</th>\n",
              "      <th>petal length (cm)</th>\n",
              "      <th>petal width (cm)</th>\n",
              "      <th>Class</th>\n",
              "      <th>Predicted_class</th>\n",
              "    </tr>\n",
              "  </thead>\n",
              "  <tbody>\n",
              "    <tr>\n",
              "      <th>count</th>\n",
              "      <td>150.000000</td>\n",
              "      <td>150.000000</td>\n",
              "      <td>150.000000</td>\n",
              "      <td>150.000000</td>\n",
              "      <td>150.000000</td>\n",
              "      <td>150.000000</td>\n",
              "      <td>150.000000</td>\n",
              "    </tr>\n",
              "    <tr>\n",
              "      <th>mean</th>\n",
              "      <td>74.500000</td>\n",
              "      <td>5.354000</td>\n",
              "      <td>2.933333</td>\n",
              "      <td>3.574667</td>\n",
              "      <td>1.142667</td>\n",
              "      <td>1.000000</td>\n",
              "      <td>1.020000</td>\n",
              "    </tr>\n",
              "    <tr>\n",
              "      <th>std</th>\n",
              "      <td>43.445368</td>\n",
              "      <td>1.831735</td>\n",
              "      <td>0.733903</td>\n",
              "      <td>1.853536</td>\n",
              "      <td>0.780152</td>\n",
              "      <td>0.819232</td>\n",
              "      <td>0.814878</td>\n",
              "    </tr>\n",
              "    <tr>\n",
              "      <th>min</th>\n",
              "      <td>0.000000</td>\n",
              "      <td>0.000000</td>\n",
              "      <td>0.000000</td>\n",
              "      <td>0.000000</td>\n",
              "      <td>0.000000</td>\n",
              "      <td>0.000000</td>\n",
              "      <td>0.000000</td>\n",
              "    </tr>\n",
              "    <tr>\n",
              "      <th>25%</th>\n",
              "      <td>37.250000</td>\n",
              "      <td>5.000000</td>\n",
              "      <td>2.725000</td>\n",
              "      <td>1.500000</td>\n",
              "      <td>0.200000</td>\n",
              "      <td>0.000000</td>\n",
              "      <td>0.000000</td>\n",
              "    </tr>\n",
              "    <tr>\n",
              "      <th>50%</th>\n",
              "      <td>74.500000</td>\n",
              "      <td>5.700000</td>\n",
              "      <td>3.000000</td>\n",
              "      <td>4.200000</td>\n",
              "      <td>1.300000</td>\n",
              "      <td>1.000000</td>\n",
              "      <td>1.000000</td>\n",
              "    </tr>\n",
              "    <tr>\n",
              "      <th>75%</th>\n",
              "      <td>111.750000</td>\n",
              "      <td>6.400000</td>\n",
              "      <td>3.300000</td>\n",
              "      <td>5.075000</td>\n",
              "      <td>1.800000</td>\n",
              "      <td>2.000000</td>\n",
              "      <td>2.000000</td>\n",
              "    </tr>\n",
              "    <tr>\n",
              "      <th>max</th>\n",
              "      <td>149.000000</td>\n",
              "      <td>7.900000</td>\n",
              "      <td>4.400000</td>\n",
              "      <td>6.900000</td>\n",
              "      <td>2.500000</td>\n",
              "      <td>2.000000</td>\n",
              "      <td>2.000000</td>\n",
              "    </tr>\n",
              "  </tbody>\n",
              "</table>\n",
              "</div>"
            ],
            "text/plain": [
              "       Unnamed: 0  sepal length (cm)  ...       Class  Predicted_class\n",
              "count  150.000000         150.000000  ...  150.000000       150.000000\n",
              "mean    74.500000           5.354000  ...    1.000000         1.020000\n",
              "std     43.445368           1.831735  ...    0.819232         0.814878\n",
              "min      0.000000           0.000000  ...    0.000000         0.000000\n",
              "25%     37.250000           5.000000  ...    0.000000         0.000000\n",
              "50%     74.500000           5.700000  ...    1.000000         1.000000\n",
              "75%    111.750000           6.400000  ...    2.000000         2.000000\n",
              "max    149.000000           7.900000  ...    2.000000         2.000000\n",
              "\n",
              "[8 rows x 7 columns]"
            ]
          },
          "metadata": {},
          "execution_count": 37
        }
      ]
    },
    {
      "cell_type": "code",
      "metadata": {
        "id": "m71g2go3nQp7"
      },
      "source": [
        "#normalization using z-score\n",
        "new_df=df.iloc[:,:5]\n",
        "for i in new_df.columns:\n",
        "  new_df[i] = (new_df[i] - new_df[i].mean())/new_df[i].std()\n",
        "new_df.to_csv('ass6_q4.csv')"
      ],
      "execution_count": null,
      "outputs": []
    },
    {
      "cell_type": "code",
      "metadata": {
        "colab": {
          "base_uri": "https://localhost:8080/"
        },
        "id": "UexLXTJgtwZZ",
        "outputId": "1bbf2cd9-b9ef-4d46-a925-5703023a916a"
      },
      "source": [
        "import pandas as pd\n",
        "import numpy as np\n",
        "boston = pd.read_csv('/content/drive/MyDrive/ds/Boston_Housing_01.csv')\n",
        "def correlation(actual,predicted):\n",
        "  xy = actual.dot(predicted)\n",
        "  x2 = actual.dot(actual)\n",
        "  y2 = predicted.dot(predicted)\n",
        "  n = len(actual)\n",
        "  num = (n*(xy.sum())) - ((predicted.sum())*(actual.sum()))\n",
        "  den = ((n*x2.sum())-(actual.sum()**2))*((n*x2.sum())-(actual.sum()**2))\n",
        "  return num/np.sqrt(den)\n",
        "def r2(actual,predicted):\n",
        "  return correlation(actual,predicted)**2\n",
        "def MSE(actual,predicted):\n",
        "  sum=0\n",
        "  for i in range(len(actual)):\n",
        "    sum = (actual[i]-predicted[i])**2\n",
        "  return sum/len(actual)\n",
        "def RMSE(actual,predicted):\n",
        "  return np.sqrt(MSE(actual,predicted))\n",
        "print(boston.head())\n",
        "print(f'correlation - {correlation(boston[\"MEDV\"],boston[\"Predicted\"])}')\n",
        "print(f'r2 - {r2(boston[\"MEDV\"],boston[\"Predicted\"])}')\n",
        "print(f'MSE - {MSE(boston[\"MEDV\"],boston[\"Predicted\"])}')\n",
        "print(f'RMSE - {RMSE(boston[\"MEDV\"],boston[\"Predicted\"])}')\n"
      ],
      "execution_count": null,
      "outputs": [
        {
          "output_type": "stream",
          "name": "stdout",
          "text": [
            "      CRIM    ZN  INDUS  CHAS    NOX  ...  PTRATIO       B  LSTAT  MEDV  Predicted\n",
            "0  0.00632  18.0   2.31     0  0.538  ...     15.3  396.90   4.98  24.0       27.0\n",
            "1  0.02731   0.0   7.07     0  0.469  ...     17.8  396.90   9.14  21.6       22.6\n",
            "2  0.02729   0.0   7.07     0  0.469  ...     17.8  392.83   4.03  34.7       32.7\n",
            "3  0.03237   0.0   2.18     0  0.458  ...     18.7  394.63   2.94  33.4       32.4\n",
            "4  0.06905   0.0   2.18     0  0.458  ...     18.7  396.90   5.33  36.2       34.2\n",
            "\n",
            "[5 rows x 15 columns]\n",
            "correlation - 0.9950145656015199\n",
            "r2 - 0.9900539857591814\n",
            "MSE - 0.001976284584980237\n",
            "RMSE - 0.044455422447438706\n"
          ]
        }
      ]
    }
  ]
}